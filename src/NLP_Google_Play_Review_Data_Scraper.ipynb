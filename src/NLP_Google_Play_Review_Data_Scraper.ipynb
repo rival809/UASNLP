{
  "cells": [
    {
      "cell_type": "markdown",
      "metadata": {
        "id": "To_vEWFURtMX"
      },
      "source": [
        "# Google Play App's Review Data Scraper"
      ]
    },
    {
      "cell_type": "markdown",
      "metadata": {
        "id": "Y6gEob5LRoQB"
      },
      "source": [
        "> Aplikasi ini dibuat untuk melakukan penarikan data dari salah satu maupun beberapa aplikasi yang terdapat di Google Play Store ke dalam bentuk csv\n",
        "\n",
        "Data yang diperoleh antara lain adalah :\n",
        "- Review dari user\n",
        "- Star Rating\n",
        "- Hari dan Tanggal\n",
        "- Informasi Aplikasi"
      ]
    },
    {
      "cell_type": "markdown",
      "metadata": {
        "id": "VI1Dobd2a3ZS"
      },
      "source": [
        "## Setup\n",
        "\n",
        "install packages yang dibutuhkan dan setup the imports:\n",
        "\n",
        "(Digunakan untuk melakukan instalasi package yang diperlukan dalam melakukan data scraping)"
      ]
    },
    {
      "cell_type": "code",
      "execution_count": 1,
      "metadata": {
        "colab": {
          "base_uri": "https://localhost:8080/"
        },
        "id": "we0MhlUF_-uO",
        "outputId": "b49af56e-d54f-44ab-b4ce-740431b8eddd"
      },
      "outputs": [
        {
          "name": "stdout",
          "output_type": "stream",
          "text": [
            "Defaulting to user installation because normal site-packages is not writeable\n",
            "Requirement already satisfied: watermark in c:\\users\\rival\\appdata\\roaming\\python\\python310\\site-packages (2.2.0)\n",
            "Requirement already satisfied: ipython in c:\\users\\rival\\appdata\\roaming\\python\\python310\\site-packages (from watermark) (7.28.0)\n",
            "Requirement already satisfied: decorator in c:\\users\\rival\\appdata\\roaming\\python\\python310\\site-packages (from ipython->watermark) (5.1.0)\n",
            "Requirement already satisfied: pickleshare in c:\\users\\rival\\appdata\\roaming\\python\\python310\\site-packages (from ipython->watermark) (0.7.5)\n",
            "Requirement already satisfied: traitlets>=4.2 in c:\\users\\rival\\appdata\\roaming\\python\\python310\\site-packages (from ipython->watermark) (5.1.0)\n",
            "Requirement already satisfied: matplotlib-inline in c:\\users\\rival\\appdata\\roaming\\python\\python310\\site-packages (from ipython->watermark) (0.1.3)\n",
            "Requirement already satisfied: backcall in c:\\users\\rival\\appdata\\roaming\\python\\python310\\site-packages (from ipython->watermark) (0.2.0)\n",
            "Requirement already satisfied: pygments in c:\\users\\rival\\appdata\\roaming\\python\\python310\\site-packages (from ipython->watermark) (2.10.0)\n",
            "Requirement already satisfied: prompt-toolkit!=3.0.0,!=3.0.1,<3.1.0,>=2.0.0 in c:\\users\\rival\\appdata\\roaming\\python\\python310\\site-packages (from ipython->watermark) (3.0.20)\n",
            "Requirement already satisfied: colorama in c:\\users\\rival\\appdata\\roaming\\python\\python310\\site-packages (from ipython->watermark) (0.4.4)\n",
            "Requirement already satisfied: setuptools>=18.5 in c:\\program files\\python31\\lib\\site-packages (from ipython->watermark) (57.4.0)\n",
            "Requirement already satisfied: jedi>=0.16 in c:\\users\\rival\\appdata\\roaming\\python\\python310\\site-packages (from ipython->watermark) (0.18.0)\n",
            "Requirement already satisfied: parso<0.9.0,>=0.8.0 in c:\\users\\rival\\appdata\\roaming\\python\\python310\\site-packages (from jedi>=0.16->ipython->watermark) (0.8.2)\n",
            "Requirement already satisfied: wcwidth in c:\\users\\rival\\appdata\\roaming\\python\\python310\\site-packages (from prompt-toolkit!=3.0.0,!=3.0.1,<3.1.0,>=2.0.0->ipython->watermark) (0.2.5)\n"
          ]
        }
      ],
      "source": [
        "!pip install -qq google-play-scraper\n",
        "!pip install watermark"
      ]
    },
    {
      "cell_type": "code",
      "execution_count": 2,
      "metadata": {
        "colab": {
          "base_uri": "https://localhost:8080/"
        },
        "id": "NtL0sXa5PDsG",
        "outputId": "5e44f55f-bd86-4844-a982-9d3d4738abb7"
      },
      "outputs": [
        {
          "name": "stdout",
          "output_type": "stream",
          "text": [
            "Python implementation: CPython\n",
            "Python version       : 3.10.0\n",
            "IPython version      : 7.28.0\n",
            "\n",
            "pandas             : 1.3.4\n",
            "matplotlib         : 3.5.0\n",
            "seaborn            : 0.11.2\n",
            "google_play_scraper: 1.0.2\n",
            "\n"
          ]
        }
      ],
      "source": [
        "%reload_ext watermark\n",
        "%watermark -v -p pandas,matplotlib,seaborn,google_play_scraper"
      ]
    },
    {
      "cell_type": "code",
      "execution_count": 3,
      "metadata": {
        "id": "KO_DkQb1AeSY"
      },
      "outputs": [],
      "source": [
        "import json\n",
        "import pandas as pd\n",
        "from tqdm import tqdm\n",
        "\n",
        "import seaborn as sns\n",
        "import matplotlib.pyplot as plt\n",
        "\n",
        "from pygments import highlight\n",
        "from pygments.lexers import JsonLexer\n",
        "from pygments.formatters import TerminalFormatter\n",
        "\n",
        "from google_play_scraper import Sort, reviews, app\n",
        "\n",
        "%matplotlib inline\n",
        "%config InlineBackend.figure_format='retina'\n",
        "\n",
        "sns.set(style='whitegrid', palette='muted', font_scale=1.2)"
      ]
    },
    {
      "cell_type": "markdown",
      "metadata": {
        "id": "ILxYFPjkSILt"
      },
      "source": [
        "Aplikasi yang akan dilakukan data scraping, ditulis nama packagenya.\n",
        "Dapat ditambahkan lebih dari 1 aplikasi"
      ]
    },
    {
      "cell_type": "code",
      "execution_count": 4,
      "metadata": {
        "id": "AyooW6bBAIl6"
      },
      "outputs": [],
      "source": [
        "app_packages = [\n",
        "  'id.co.bitcoin',\n",
        "]"
      ]
    },
    {
      "cell_type": "markdown",
      "metadata": {
        "id": "EAxBAfyiZ-QC"
      },
      "source": [
        "## Scraping App Information\n",
        "\n",
        "Scrape informasi untuk setiap aplikasi:"
      ]
    },
    {
      "cell_type": "code",
      "execution_count": 5,
      "metadata": {
        "colab": {
          "base_uri": "https://localhost:8080/"
        },
        "id": "zusDZbd4AoOG",
        "outputId": "c29d7561-8d1b-4de9-d030-39df2fc984f5"
      },
      "outputs": [
        {
          "name": "stderr",
          "output_type": "stream",
          "text": [
            "100%|██████████| 1/1 [00:00<00:00,  2.08it/s]\n"
          ]
        }
      ],
      "source": [
        "app_infos = []\n",
        "\n",
        "for ap in tqdm(app_packages):\n",
        "  info = app(ap, lang='id', country='id')\n",
        "  del info['comments']\n",
        "  app_infos.append(info)"
      ]
    },
    {
      "cell_type": "markdown",
      "metadata": {
        "id": "HcqDfOxyNWrA"
      },
      "source": [
        "Merubah data hasil scraping ke dalam bentuk JSON"
      ]
    },
    {
      "cell_type": "code",
      "execution_count": 6,
      "metadata": {
        "id": "4n-vkhrZJPp_"
      },
      "outputs": [],
      "source": [
        "def print_json(json_object):\n",
        "  json_str = json.dumps(\n",
        "    json_object, \n",
        "    indent=2, \n",
        "    sort_keys=True, \n",
        "    default=str\n",
        "  )\n",
        "  print(highlight(json_str, JsonLexer(), TerminalFormatter()))"
      ]
    },
    {
      "cell_type": "markdown",
      "metadata": {
        "id": "385fEVLONdac"
      },
      "source": [
        "Data JSON dari aplikasi yang telah dilakukan scraping"
      ]
    },
    {
      "cell_type": "code",
      "execution_count": 7,
      "metadata": {
        "colab": {
          "base_uri": "https://localhost:8080/"
        },
        "id": "TI1s5NBAEl-X",
        "outputId": "e6d5dba9-767d-453e-e097-3feafa29d99c"
      },
      "outputs": [
        {
          "name": "stdout",
          "output_type": "stream",
          "text": [
            "{\n",
            "  \u001b[94m\"adSupported\"\u001b[39;49;00m: \u001b[34mnull\u001b[39;49;00m,\n",
            "  \u001b[94m\"androidVersion\"\u001b[39;49;00m: \u001b[33m\"5.0\"\u001b[39;49;00m,\n",
            "  \u001b[94m\"androidVersionText\"\u001b[39;49;00m: \u001b[33m\"5.0 dan yang lebih tinggi\"\u001b[39;49;00m,\n",
            "  \u001b[94m\"appId\"\u001b[39;49;00m: \u001b[33m\"id.co.bitcoin\"\u001b[39;49;00m,\n",
            "  \u001b[94m\"containsAds\"\u001b[39;49;00m: \u001b[34mfalse\u001b[39;49;00m,\n",
            "  \u001b[94m\"contentRating\"\u001b[39;49;00m: \u001b[33m\"Rating 3+\"\u001b[39;49;00m,\n",
            "  \u001b[94m\"contentRatingDescription\"\u001b[39;49;00m: \u001b[34mnull\u001b[39;49;00m,\n",
            "  \u001b[94m\"currency\"\u001b[39;49;00m: \u001b[33m\"IDR\"\u001b[39;49;00m,\n",
            "  \u001b[94m\"description\"\u001b[39;49;00m: \u001b[33m\"The biggest Indonesia's Crypto Assets marketplace within your hands!\\r\\n\\r\\nIndodax Official Mobile App!\\r\\n\\r\\nIndodax is the biggest Crypto Asset marketplace in Indonesia. We currently have more than 2 million members from Indonesia and all over the world. With the sophisticated technology, Indodax has improved its mobile application which eases all traders with a wide range of crypto assets.\\r\\n\\r\\nWith this we proudly present\\r\\n\\r\\n\\u2605Buy and Sell Crypto Assets\\r\\n\\r\\nIndodax gives you the opportunity to buy Bitcoin and other crypto-assets with less an hour. We have the most liquid transaction on all the markets with 2 pairs which are Indonesian Rupiah and USDT.\\r\\nTo support your trading activity, we also accept various ways of payment from any local banks, e-wallet to the mini-market.\\r\\n\\r\\n\\r\\n\\u2605Seamless Trading\\r\\n\\r\\nOur trading platform is loaded with features with an easy-to-use interface and a wide range of crypto assets that allow you to effortlessly execute both long and short-term investment strategies. Enjoy our trading features such as Instant order, Limit order and Stop Order feature, where you can trade without having to worry when the crypto-asset price drop or raise when you are not online on the Indodax website.\\r\\n\\r\\nWhy Indodax?\\r\\n\\r\\nWhether you\\u2019re an experienced trader or just getting started, Indodax has all special tools to ease your Crypto assets trading experience. Trading with no worries as we have been registered on Commodity Futures Trading Supervisory Agency (BAPPEBTI) in the crypto-asset marketplace category.\\r\\n\\r\\n\\u2605Multiple Layer of Security\\r\\n\\r\\nSecurity will always be a top priority in every decision we make, and we incorporate multiple layers of protection, using the most reliable and effective security (E-mail and SMS verification with Google Authenticator) technologies to keep your funds secure.\\r\\n\\r\\n\\u2605Simplicity\\r\\n\\r\\nEnjoy the most efficient way to do transactions and trading with our platform on the website as well as the mobile phone. The most comprehensive trading activity is now only one app away! This app is available for Android and iOS users. To download click on the button below!\\r\\n\\r\\n\\u2605Efficient\\r\\n\\r\\nDeposits and withdrawal will proceed only in one working day! Indodax will ensure every procedure running immediately and securely. We also support transaction on the weekend!\\r\\n\\r\\n\\u260524/7 Customer Service\\r\\n\\r\\nWith 24/7 customer service, we are gladly assisting you anywhere and anytime. Please, hit the live chat button below or send us an e-mail to support@indodax.com if you have any questions regarding Crypto assets.\\r\\n\\r\\nEnjoy the most sophisticated way to trade your Crypto Assets!\\r\\n\\r\\nFollow us:\\r\\nInstagram: https://www.instagram.com/indodax/\\r\\nTwitter: https://twitter.com/indodax\\r\\nFacebook: https://www.facebook.com/indodax\\r\\nYoutube: https://www.youtube.com/c/indodax\"\u001b[39;49;00m,\n",
            "  \u001b[94m\"descriptionHTML\"\u001b[39;49;00m: \u001b[33m\"The biggest Indonesia&#39;s Crypto Assets marketplace within your hands!<br><br>Indodax Official Mobile App!<br><br>Indodax is the biggest Crypto Asset marketplace in Indonesia. We currently have more than 2 million members from Indonesia and all over the world. With the sophisticated technology, Indodax has improved its mobile application which eases all traders with a wide range of crypto assets.<br><br>With this we proudly present<br><br>\\u2605Buy and Sell Crypto Assets<br><br>Indodax gives you the opportunity to buy Bitcoin and other crypto-assets with less an hour. We have the most liquid transaction on all the markets with 2 pairs which are Indonesian Rupiah and USDT.<br>To support your trading activity, we also accept various ways of payment from any local banks, e-wallet to the mini-market.<br><br><br>\\u2605Seamless Trading<br><br>Our trading platform is loaded with features with an easy-to-use interface and a wide range of crypto assets that allow you to effortlessly execute both long and short-term investment strategies. Enjoy our trading features such as Instant order, Limit order and Stop Order feature, where you can trade without having to worry when the crypto-asset price drop or raise when you are not online on the Indodax website.<br><br>Why Indodax?<br><br>Whether you\\u2019re an experienced trader or just getting started, Indodax has all special tools to ease your Crypto assets trading experience. Trading with no worries as we have been registered on Commodity Futures Trading Supervisory Agency (BAPPEBTI) in the crypto-asset marketplace category.<br><br>\\u2605Multiple Layer of Security<br><br>Security will always be a top priority in every decision we make, and we incorporate multiple layers of protection, using the most reliable and effective security (E-mail and SMS verification with Google Authenticator) technologies to keep your funds secure.<br><br>\\u2605Simplicity<br><br>Enjoy the most efficient way to do transactions and trading with our platform on the website as well as the mobile phone. The most comprehensive trading activity is now only one app away! This app is available for Android and iOS users. To download click on the button below!<br><br>\\u2605Efficient<br><br>Deposits and withdrawal will proceed only in one working day! Indodax will ensure every procedure running immediately and securely. We also support transaction on the weekend!<br><br>\\u260524/7 Customer Service<br><br>With 24/7 customer service, we are gladly assisting you anywhere and anytime. Please, hit the live chat button below or send us an e-mail to support@indodax.com if you have any questions regarding Crypto assets.<br><br>Enjoy the most sophisticated way to trade your Crypto Assets!<br><br>Follow us:<br>Instagram: https://www.instagram.com/indodax/<br>Twitter: https://twitter.com/indodax<br>Facebook: https://www.facebook.com/indodax<br>Youtube: https://www.youtube.com/c/indodax\"\u001b[39;49;00m,\n",
            "  \u001b[94m\"developer\"\u001b[39;49;00m: \u001b[33m\"Indodax\"\u001b[39;49;00m,\n",
            "  \u001b[94m\"developerAddress\"\u001b[39;49;00m: \u001b[33m\"Millennium Centennial Center, 2nd floor\\nJl. Jend. Sudirman Kav 25\\nKota Jakarta Selatan\\nJakarta 12920\"\u001b[39;49;00m,\n",
            "  \u001b[94m\"developerEmail\"\u001b[39;49;00m: \u001b[33m\"support@indodax.com\"\u001b[39;49;00m,\n",
            "  \u001b[94m\"developerId\"\u001b[39;49;00m: \u001b[33m\"Indodax\"\u001b[39;49;00m,\n",
            "  \u001b[94m\"developerInternalID\"\u001b[39;49;00m: \u001b[33m\"7233132563081194360\"\u001b[39;49;00m,\n",
            "  \u001b[94m\"developerWebsite\"\u001b[39;49;00m: \u001b[33m\"http://indodax.com\"\u001b[39;49;00m,\n",
            "  \u001b[94m\"editorsChoice\"\u001b[39;49;00m: \u001b[34mfalse\u001b[39;49;00m,\n",
            "  \u001b[94m\"free\"\u001b[39;49;00m: \u001b[34mtrue\u001b[39;49;00m,\n",
            "  \u001b[94m\"genre\"\u001b[39;49;00m: \u001b[33m\"Keuangan\"\u001b[39;49;00m,\n",
            "  \u001b[94m\"genreId\"\u001b[39;49;00m: \u001b[33m\"FINANCE\"\u001b[39;49;00m,\n",
            "  \u001b[94m\"headerImage\"\u001b[39;49;00m: \u001b[33m\"https://play-lh.googleusercontent.com/ukl88sn-Aj1Hcnbx2bDhylW9Ai8vXrxLHYZuKP0FObEaIMJv6UXVwQeb4OlzCi41WOI\"\u001b[39;49;00m,\n",
            "  \u001b[94m\"histogram\"\u001b[39;49;00m: [\n",
            "    \u001b[34m10602\u001b[39;49;00m,\n",
            "    \u001b[34m1625\u001b[39;49;00m,\n",
            "    \u001b[34m2735\u001b[39;49;00m,\n",
            "    \u001b[34m5150\u001b[39;49;00m,\n",
            "    \u001b[34m63113\u001b[39;49;00m\n",
            "  ],\n",
            "  \u001b[94m\"icon\"\u001b[39;49;00m: \u001b[33m\"https://play-lh.googleusercontent.com/g-7MayQKj8PRaCAHpIBVGL8AqXOfTE7w8yv7od1s3DMNj53RiwbiJA8c5sna6CNugNc7\"\u001b[39;49;00m,\n",
            "  \u001b[94m\"inAppProductPrice\"\u001b[39;49;00m: \u001b[34mnull\u001b[39;49;00m,\n",
            "  \u001b[94m\"installs\"\u001b[39;49;00m: \u001b[33m\"1.000.000+\"\u001b[39;49;00m,\n",
            "  \u001b[94m\"minInstalls\"\u001b[39;49;00m: \u001b[34m1000000\u001b[39;49;00m,\n",
            "  \u001b[94m\"moreByDeveloper\"\u001b[39;49;00m: [\n",
            "    \u001b[33m\"co.id.dompet.btc.indonesia\"\u001b[39;49;00m\n",
            "  ],\n",
            "  \u001b[94m\"offersIAP\"\u001b[39;49;00m: \u001b[34mfalse\u001b[39;49;00m,\n",
            "  \u001b[94m\"originalPrice\"\u001b[39;49;00m: \u001b[34mnull\u001b[39;49;00m,\n",
            "  \u001b[94m\"price\"\u001b[39;49;00m: \u001b[34m0\u001b[39;49;00m,\n",
            "  \u001b[94m\"privacyPolicy\"\u001b[39;49;00m: \u001b[33m\"https://help.indodax.com/en_US/ketentuan-dan-persyaratan-indodaxcom/\"\u001b[39;49;00m,\n",
            "  \u001b[94m\"ratings\"\u001b[39;49;00m: \u001b[34m83225\u001b[39;49;00m,\n",
            "  \u001b[94m\"recentChanges\"\u001b[39;49;00m: \u001b[33m\"Tok\\u2026 tok...\\r\\nSanta datang!\\r\\n\\r\\nMembawa kado spesial berupa versi aplikasi 4.2.4 yang bikin kamu bisa deposit via GoPay dengan lebih mudah tanpa harus scan lagi!\\r\\n\\r\\nPerbarui sekarang untuk buka kadonya ya!\\r\\n\"\u001b[39;49;00m,\n",
            "  \u001b[94m\"recentChangesHTML\"\u001b[39;49;00m: \u001b[33m\"Tok\\u2026 tok...<br>Santa datang!<br><br>Membawa kado spesial berupa versi aplikasi 4.2.4 yang bikin kamu bisa deposit via GoPay dengan lebih mudah tanpa harus scan lagi!<br><br>Perbarui sekarang untuk buka kadonya ya!<br>\"\u001b[39;49;00m,\n",
            "  \u001b[94m\"released\"\u001b[39;49;00m: \u001b[33m\"15 Des 2014\"\u001b[39;49;00m,\n",
            "  \u001b[94m\"reviews\"\u001b[39;49;00m: \u001b[34m41511\u001b[39;49;00m,\n",
            "  \u001b[94m\"sale\"\u001b[39;49;00m: \u001b[34mfalse\u001b[39;49;00m,\n",
            "  \u001b[94m\"saleText\"\u001b[39;49;00m: \u001b[34mnull\u001b[39;49;00m,\n",
            "  \u001b[94m\"saleTime\"\u001b[39;49;00m: \u001b[34mnull\u001b[39;49;00m,\n",
            "  \u001b[94m\"score\"\u001b[39;49;00m: \u001b[34m4.304174\u001b[39;49;00m,\n",
            "  \u001b[94m\"screenshots\"\u001b[39;49;00m: [\n",
            "    \u001b[33m\"https://play-lh.googleusercontent.com/59dFeqoeTo50d5L_VVCYOUgU4zIVvkrcYn0RkIA9feUZLzeBhF63lFAv5fTaZ6eTh21n\"\u001b[39;49;00m,\n",
            "    \u001b[33m\"https://play-lh.googleusercontent.com/_-DDORyZTUcjgv2ioPZasAvwk8wwTzwPj-lmxwdW20KHthVr9dp7lr0fb5IOxC-Vrtc\"\u001b[39;49;00m,\n",
            "    \u001b[33m\"https://play-lh.googleusercontent.com/syWyAMQD5JaRcR3HSniRf4M-oh7r-DB1PouEfENDBYOyr5kp4L9Oe29Rt10n527u9A\"\u001b[39;49;00m,\n",
            "    \u001b[33m\"https://play-lh.googleusercontent.com/LuwzqUQMX2xX352uW852F_lrjhmXbWFlzlPxfYG3MzyZhZEU8gCv5QEv04RGniQkT-RC\"\u001b[39;49;00m\n",
            "  ],\n",
            "  \u001b[94m\"similarApps\"\u001b[39;49;00m: [\n",
            "    \u001b[33m\"com.binance.cloud.tokocrypto\"\u001b[39;49;00m,\n",
            "    \u001b[33m\"ajaib.co.id\"\u001b[39;49;00m,\n",
            "    \u001b[33m\"com.EmasDigi\"\u001b[39;49;00m,\n",
            "    \u001b[33m\"com.valar.pintu\"\u001b[39;49;00m,\n",
            "    \u001b[33m\"com.indone.online\"\u001b[39;49;00m\n",
            "  ],\n",
            "  \u001b[94m\"size\"\u001b[39;49;00m: \u001b[33m\"31M\"\u001b[39;49;00m,\n",
            "  \u001b[94m\"summary\"\u001b[39;49;00m: \u001b[33m\"Indodax Official Mobile Trading Platform!\"\u001b[39;49;00m,\n",
            "  \u001b[94m\"summaryHTML\"\u001b[39;49;00m: \u001b[33m\"Indodax Official Mobile Trading Platform!\"\u001b[39;49;00m,\n",
            "  \u001b[94m\"title\"\u001b[39;49;00m: \u001b[33m\"Indodax Trading Platform\"\u001b[39;49;00m,\n",
            "  \u001b[94m\"updated\"\u001b[39;49;00m: \u001b[34m1639460010\u001b[39;49;00m,\n",
            "  \u001b[94m\"url\"\u001b[39;49;00m: \u001b[33m\"https://play.google.com/store/apps/details?id=id.co.bitcoin&hl=id&gl=id\"\u001b[39;49;00m,\n",
            "  \u001b[94m\"version\"\u001b[39;49;00m: \u001b[33m\"4.2.4\"\u001b[39;49;00m,\n",
            "  \u001b[94m\"video\"\u001b[39;49;00m: \u001b[33m\"https://www.youtube.com/embed/jETDNy308PY?ps=play&vq=large&rel=0&autohide=1&showinfo=0\"\u001b[39;49;00m,\n",
            "  \u001b[94m\"videoImage\"\u001b[39;49;00m: \u001b[33m\"https://play-lh.googleusercontent.com/ukl88sn-Aj1Hcnbx2bDhylW9Ai8vXrxLHYZuKP0FObEaIMJv6UXVwQeb4OlzCi41WOI\"\u001b[39;49;00m\n",
            "}\n",
            "\n"
          ]
        }
      ],
      "source": [
        "print_json(app_infos[0])"
      ]
    },
    {
      "cell_type": "markdown",
      "metadata": {
        "id": "dAOdYGkYODcZ"
      },
      "source": [
        "This contains lots of information including the number of ratings, number of reviews and number of ratings for each score (1 to 5). Let's ignore all of that and have a look at their beautiful icons:"
      ]
    },
    {
      "cell_type": "code",
      "execution_count": null,
      "metadata": {
        "colab": {
          "base_uri": "https://localhost:8080/",
          "height": 35
        },
        "id": "ni2zGSIIa6WT",
        "outputId": "2480e843-681c-4ab0-f4e8-83d3d8deaa6f"
      },
      "outputs": [],
      "source": [
        "def format_title(title):\n",
        "  sep_index = title.find(':') if title.find(':') != -1 else title.find('-')\n",
        "  if sep_index != -1:\n",
        "    title = title[:sep_index]\n",
        "  return title[:10]\n",
        "\n",
        "fig, axs = plt.subplots(2, len(app_infos) // 2, figsize=(14, 5))\n",
        "\n",
        "for i, ax in enumerate(axs.flat):\n",
        "  ai = app_infos[i]\n",
        "  img = plt.imread(ai['icon'])\n",
        "  ax.imshow(img)\n",
        "  ax.set_title(format_title(ai['title']))\n",
        "  ax.axis('off')"
      ]
    },
    {
      "cell_type": "markdown",
      "metadata": {
        "id": "r-TwrzCHPJn0"
      },
      "source": [
        "Store Informasi aplikasi dengan converting JSON objects menjadi Pandas dataframe dan menyimpan hasilnya kedalam sebuah CSV file:"
      ]
    },
    {
      "cell_type": "code",
      "execution_count": 10,
      "metadata": {
        "id": "JJeUc7xjBxuq"
      },
      "outputs": [],
      "source": [
        "app_infos_df = pd.DataFrame(app_infos)\n",
        "app_infos_df.to_csv('apps.csv', index=None, header=True)"
      ]
    },
    {
      "cell_type": "markdown",
      "metadata": {
        "id": "mXqklWjwPLVv"
      },
      "source": [
        "## Scraping App Reviews\n",
        "\n",
        "In an ideal world, we would get all the reviews. But there are lots of them and we're scraping the data. That wouldn't be very polite. What should we do?\n",
        "\n",
        "We want:\n",
        "\n",
        "- Balanced dataset - roughly the same number of reviews for each score (1-5)\n",
        "- A representative sample of the reviews for each app\n",
        "\n",
        "We can satisfy the first requirement by using the scraping package option to filter the review score. For the second, we'll sort the reviews by their helpfulness, which are the reviews that Google Play thinks are most important. Just in case, we'll get a subset from the newest, too:"
      ]
    },
    {
      "cell_type": "code",
      "execution_count": 11,
      "metadata": {
        "colab": {
          "base_uri": "https://localhost:8080/"
        },
        "id": "vRIID99ZCfjv",
        "outputId": "94285187-a972-46b9-92e3-263f0a25fda4"
      },
      "outputs": [
        {
          "name": "stderr",
          "output_type": "stream",
          "text": [
            "100%|██████████| 1/1 [00:06<00:00,  6.18s/it]\n"
          ]
        }
      ],
      "source": [
        "app_reviews = []\n",
        "\n",
        "for ap in tqdm(app_packages):\n",
        "  for score in list(range(1, 6)):\n",
        "    for sort_order in [Sort.MOST_RELEVANT, Sort.NEWEST]:\n",
        "      rvs, _ = reviews(\n",
        "        ap,\n",
        "        lang='id',\n",
        "        country='id',\n",
        "        sort=sort_order,\n",
        "        count= 200 if score == 3 else 100,\n",
        "        filter_score_with=score\n",
        "      )\n",
        "      for r in rvs:\n",
        "        r['sortOrder'] = 'most_relevant' if sort_order == Sort.MOST_RELEVANT else 'newest'\n",
        "        r['appId'] = ap\n",
        "      app_reviews.extend(rvs)"
      ]
    },
    {
      "cell_type": "markdown",
      "metadata": {
        "id": "gxQMuB20Wsnj"
      },
      "source": [
        "Note that we're adding the app id and sort order to each review. Here's an example for one:"
      ]
    },
    {
      "cell_type": "code",
      "execution_count": 12,
      "metadata": {
        "colab": {
          "base_uri": "https://localhost:8080/"
        },
        "id": "tF5exqgWCh1Q",
        "outputId": "8e957183-ccbc-4e2d-8fa9-2537d1c0ae48"
      },
      "outputs": [
        {
          "name": "stdout",
          "output_type": "stream",
          "text": [
            "{\n",
            "  \u001b[94m\"appId\"\u001b[39;49;00m: \u001b[33m\"id.co.bitcoin\"\u001b[39;49;00m,\n",
            "  \u001b[94m\"at\"\u001b[39;49;00m: \u001b[33m\"2021-12-19 18:43:41\"\u001b[39;49;00m,\n",
            "  \u001b[94m\"content\"\u001b[39;49;00m: \u001b[33m\"Harga eminer kemarin di beberapa situs terkenal sampai 1000%, di indodax malah ga bergerak sama sekali, bikin jadi bertanya2, apakah ada permainan dari pihak indodax, bisa di bayangkan berapa uang yg harusnya di perileh oleh trader,,,perlu dipertanyakan lagi tentang kejujuran situs ini...\"\u001b[39;49;00m,\n",
            "  \u001b[94m\"repliedAt\"\u001b[39;49;00m: \u001b[33m\"2021-12-19 19:07:59\"\u001b[39;49;00m,\n",
            "  \u001b[94m\"replyContent\"\u001b[39;49;00m: \u001b[33m\"Dear member Indodax. Sisi kami tidak dapat mempercepat transaksi tersebut dikarenakan naik turunnya harga aset kripto mutlak ditentukan oleh permintaan dan penawaran yang ada. Anda dapat menunggu hingga harga memasuki antrian pada order book. Jika Anda mengalami kendala dalam bertransaksi, mohon langsung hubungi layanan support kami. Terima kasih.\"\u001b[39;49;00m,\n",
            "  \u001b[94m\"reviewCreatedVersion\"\u001b[39;49;00m: \u001b[33m\"4.2.4\"\u001b[39;49;00m,\n",
            "  \u001b[94m\"reviewId\"\u001b[39;49;00m: \u001b[33m\"gp:AOqpTOFUnbrc0l8pghNFMZEg373NiDzg8a1tLwNtntBtpQf_9jJh4DFWytBi8PWTpdmLhrD-ndkLeS9MwKKx_0k\"\u001b[39;49;00m,\n",
            "  \u001b[94m\"score\"\u001b[39;49;00m: \u001b[34m1\u001b[39;49;00m,\n",
            "  \u001b[94m\"sortOrder\"\u001b[39;49;00m: \u001b[33m\"most_relevant\"\u001b[39;49;00m,\n",
            "  \u001b[94m\"thumbsUpCount\"\u001b[39;49;00m: \u001b[34m21\u001b[39;49;00m,\n",
            "  \u001b[94m\"userImage\"\u001b[39;49;00m: \u001b[33m\"https://play-lh.googleusercontent.com/a-/AOh14GjstQJ3v98djgetK75z-t18DHPec0AMZBWCtCooeQ\"\u001b[39;49;00m,\n",
            "  \u001b[94m\"userName\"\u001b[39;49;00m: \u001b[33m\"bali melali tv\"\u001b[39;49;00m\n",
            "}\n",
            "\n"
          ]
        }
      ],
      "source": [
        "print_json(app_reviews[0])"
      ]
    },
    {
      "cell_type": "markdown",
      "metadata": {
        "id": "R5hErADbOiMU"
      },
      "source": [
        "`repliedAt` and `replyContent` contain the developer response to the review. Of course, they can be missing.\n",
        "\n",
        "How many app reviews did we get?\n",
        "\n"
      ]
    },
    {
      "cell_type": "code",
      "execution_count": 13,
      "metadata": {
        "colab": {
          "base_uri": "https://localhost:8080/"
        },
        "id": "e2YjMDQDOdC5",
        "outputId": "e2d4c560-9174-4eb3-847a-88dc516724a8"
      },
      "outputs": [
        {
          "data": {
            "text/plain": [
              "1200"
            ]
          },
          "execution_count": 13,
          "metadata": {},
          "output_type": "execute_result"
        }
      ],
      "source": [
        "len(app_reviews)"
      ]
    },
    {
      "cell_type": "markdown",
      "metadata": {
        "id": "K7FZVC0nOcJ9"
      },
      "source": [
        "Let's save the reviews to a CSV file:"
      ]
    },
    {
      "cell_type": "code",
      "execution_count": 19,
      "metadata": {
        "id": "1L7Nq2uwCjRI"
      },
      "outputs": [],
      "source": [
        "app_reviews_df = pd.DataFrame(app_reviews)\n",
        "app_reviews_df.to_csv('../output/Hasil Scraping.csv', index=None, header=True)"
      ]
    },
    {
      "cell_type": "markdown",
      "metadata": {
        "id": "Ve-yHopLEz1v"
      },
      "source": [
        "## Summary\n",
        "\n",
        "Well done! You now have a dataset with more than 15k user reviews from 15 productivity apps. Of course, you can go crazy and get much much more.\n",
        "\n",
        "- [Read the tutorial](https://www.curiousily.com/posts/create-dataset-for-sentiment-analysis-by-scraping-google-play-app-reviews-using-python/)\n",
        "- [Run the notebook in your browser (Google Colab)](https://colab.research.google.com/drive/1GDJIpz7BXw55jl9wTOMQDool9m8DIOyp)\n",
        "- [Read the `Getting Things Done with Pytorch` book](https://github.com/curiousily/Getting-Things-Done-with-Pytorch)\n",
        "\n",
        "You learned how to:\n",
        "\n",
        "- Set goals and expectations for your dataset\n",
        "- Scrape Google Play app information\n",
        "- Scrape user reviews for Google Play apps\n",
        "- Save the dataset to CSV files\n",
        "\n",
        "Next, we're going to use the reviews for sentiment analysis with BERT. But first, we'll have to do some text preprocessing!\n"
      ]
    },
    {
      "cell_type": "markdown",
      "metadata": {
        "id": "Z7Jd157eUaa-"
      },
      "source": [
        "## References\n",
        "\n",
        "- [Google Play Scraper for Python](https://github.com/JoMingyu/google-play-scraper)"
      ]
    }
  ],
  "metadata": {
    "colab": {
      "collapsed_sections": [],
      "name": "NLP - Google Play Review Data Scraper",
      "provenance": []
    },
    "kernelspec": {
      "display_name": "Python 3",
      "name": "python3"
    },
    "language_info": {
      "codemirror_mode": {
        "name": "ipython",
        "version": 3
      },
      "file_extension": ".py",
      "mimetype": "text/x-python",
      "name": "python",
      "nbconvert_exporter": "python",
      "pygments_lexer": "ipython3",
      "version": "3.10.0"
    }
  },
  "nbformat": 4,
  "nbformat_minor": 0
}
