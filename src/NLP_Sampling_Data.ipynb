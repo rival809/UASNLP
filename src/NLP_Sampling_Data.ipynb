{
  "cells": [
    {
      "cell_type": "markdown",
      "metadata": {
        "id": "b6WSqJIiguRC"
      },
      "source": [
        "# Sampling Notebook\n",
        "\n",
        "Pada notebook ini akan dilakukan sampling terhadap data sebelum dilakukan labeling secara manual."
      ]
    },
    {
      "cell_type": "markdown",
      "metadata": {
        "id": "Q_uLGZpIguRF"
      },
      "source": [
        "## 1. Import Libraries\n",
        "\n",
        "Import library yang akan digunakan"
      ]
    },
    {
      "cell_type": "code",
      "execution_count": 8,
      "metadata": {
        "id": "pTSEGel3guRF"
      },
      "outputs": [],
      "source": [
        "import numpy as np\n",
        "import pandas as pd\n",
        "\n",
        "from datetime import datetime"
      ]
    },
    {
      "cell_type": "markdown",
      "metadata": {
        "id": "u-6Das-7guRG"
      },
      "source": [
        "## 2. Load Dataset\n",
        "\n",
        "Load data ke memmory menggunakan library pandas."
      ]
    },
    {
      "cell_type": "code",
      "execution_count": 9,
      "metadata": {
        "colab": {
          "base_uri": "https://localhost:8080/"
        },
        "id": "KH0dzFC4guRH",
        "outputId": "1851aaf1-3980-47c5-f2cd-efe1363c4cdc"
      },
      "outputs": [
        {
          "name": "stdout",
          "output_type": "stream",
          "text": [
            "<class 'pandas.core.frame.DataFrame'>\n",
            "RangeIndex: 1200 entries, 0 to 1199\n",
            "Data columns (total 2 columns):\n",
            " #   Column   Non-Null Count  Dtype \n",
            "---  ------   --------------  ----- \n",
            " 0   Date     1187 non-null   object\n",
            " 1   Content  1200 non-null   object\n",
            "dtypes: object(2)\n",
            "memory usage: 18.9+ KB\n"
          ]
        }
      ],
      "source": [
        "## Import data\n",
        "data = pd.read_csv('../data/Data Scraper - Indodax.csv')\n",
        "data.info()"
      ]
    },
    {
      "cell_type": "markdown",
      "metadata": {
        "id": "kEMerKOQguRI"
      },
      "source": [
        "## 2. Drop Duplicate\n",
        "\n",
        "Menghapus data yang berduplikasi"
      ]
    },
    {
      "cell_type": "code",
      "execution_count": 10,
      "metadata": {
        "colab": {
          "base_uri": "https://localhost:8080/"
        },
        "id": "JmprnRL2guRI",
        "outputId": "7a859360-d0fa-48ba-a56c-5fcd92acb057"
      },
      "outputs": [
        {
          "name": "stdout",
          "output_type": "stream",
          "text": [
            "<class 'pandas.core.frame.DataFrame'>\n",
            "Int64Index: 901 entries, 0 to 1197\n",
            "Data columns (total 2 columns):\n",
            " #   Column   Non-Null Count  Dtype \n",
            "---  ------   --------------  ----- \n",
            " 0   Date     890 non-null    object\n",
            " 1   Content  901 non-null    object\n",
            "dtypes: object(2)\n",
            "memory usage: 21.1+ KB\n"
          ]
        }
      ],
      "source": [
        "data = data.drop_duplicates('Content')\n",
        "data.info()"
      ]
    },
    {
      "cell_type": "markdown",
      "metadata": {
        "id": "sPFq76dxguRJ"
      },
      "source": [
        "## 3. Sampling\n",
        "\n",
        "Dilakukan sampling menggunakan method `sample` dari library `pandas` sebanyak 700 data.\n",
        "\n",
        "**Note** : Naikan banyak sample agar model yang dibuat lebih baik dan relevant terhadap banyak kasus"
      ]
    },
    {
      "cell_type": "code",
      "execution_count": 11,
      "metadata": {
        "colab": {
          "base_uri": "https://localhost:8080/"
        },
        "id": "QsOLXWIvguRJ",
        "outputId": "0a83d7af-7e1e-40e7-a24e-b7246e0d737b"
      },
      "outputs": [
        {
          "name": "stdout",
          "output_type": "stream",
          "text": [
            "<class 'pandas.core.frame.DataFrame'>\n",
            "Int64Index: 700 entries, 365 to 421\n",
            "Data columns (total 2 columns):\n",
            " #   Column   Non-Null Count  Dtype \n",
            "---  ------   --------------  ----- \n",
            " 0   Date     694 non-null    object\n",
            " 1   Content  700 non-null    object\n",
            "dtypes: object(2)\n",
            "memory usage: 16.4+ KB\n"
          ]
        }
      ],
      "source": [
        "BANYAK_SAMPLE_DATA = 700\n",
        "sample = data.sample(n=BANYAK_SAMPLE_DATA, random_state=2020)\n",
        "sample.info()"
      ]
    },
    {
      "cell_type": "markdown",
      "metadata": {
        "id": "Aq44P2Z1guRK"
      },
      "source": [
        "## 4. Export Sample Dataset\n",
        "\n",
        "Export sample dataset"
      ]
    },
    {
      "cell_type": "code",
      "execution_count": 12,
      "metadata": {
        "id": "Kv2aAxYHguRK"
      },
      "outputs": [],
      "source": [
        "sample.to_csv(f'../output/{datetime.today().strftime(\"%Y-%m-%d\")}_Sample Review.csv')"
      ]
    }
  ],
  "metadata": {
    "colab": {
      "collapsed_sections": [],
      "name": "NLP - Sampling Data",
      "provenance": []
    },
    "kernelspec": {
      "display_name": "Python 3.8.7 64-bit",
      "metadata": {
        "interpreter": {
          "hash": "65c4c23cc7a338e45a42fd7e8c09f5b07507925084e49176bf1f55b4c6f72018"
        }
      },
      "name": "python3"
    },
    "language_info": {
      "codemirror_mode": {
        "name": "ipython",
        "version": 3
      },
      "file_extension": ".py",
      "mimetype": "text/x-python",
      "name": "python",
      "nbconvert_exporter": "python",
      "pygments_lexer": "ipython3",
      "version": "3.9.6"
    },
    "orig_nbformat": 2
  },
  "nbformat": 4,
  "nbformat_minor": 0
}
