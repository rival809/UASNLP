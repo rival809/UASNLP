{
  "cells": [
    {
      "cell_type": "markdown",
      "metadata": {
        "id": "WmGhnRujFfTC"
      },
      "source": [
        "# Analisis Sentimen\n",
        "\n",
        "Melakukan analisis sentimen pada data hasil crawling"
      ]
    },
    {
      "cell_type": "markdown",
      "metadata": {
        "id": "dHpx5wiLFfTH"
      },
      "source": [
        "## 1. Import Libraries\n",
        "\n",
        "Import library yang akan digunakan"
      ]
    },
    {
      "cell_type": "code",
      "execution_count": 1,
      "metadata": {
        "colab": {
          "base_uri": "https://localhost:8080/"
        },
        "id": "VWtVzsAWFfTI",
        "outputId": "ed3a4d68-9301-495a-f650-766dad70de1d"
      },
      "outputs": [
        {
          "name": "stdout",
          "output_type": "stream",
          "text": [
            "Requirement already satisfied: sastrawi in c:\\users\\ifelz\\anaconda3\\lib\\site-packages (1.0.1)\n",
            "Note: you may need to restart the kernel to use updated packages.\n"
          ]
        },
        {
          "name": "stderr",
          "output_type": "stream",
          "text": [
            "[nltk_data] Downloading package punkt to\n",
            "[nltk_data]     C:\\Users\\iFelz\\AppData\\Roaming\\nltk_data...\n",
            "[nltk_data]   Package punkt is already up-to-date!\n"
          ]
        },
        {
          "data": {
            "text/plain": [
              "True"
            ]
          },
          "execution_count": 1,
          "metadata": {},
          "output_type": "execute_result"
        }
      ],
      "source": [
        "%pip install sastrawi\n",
        "import os, re, json, string, pickle\n",
        "\n",
        "import nltk\n",
        "import pandas as pd\n",
        "import numpy as np\n",
        "import matplotlib.pyplot as plt\n",
        "import seaborn as sns\n",
        "\n",
        "\n",
        "from datetime import datetime\n",
        "from nltk.tokenize import word_tokenize\n",
        "from sklearn.feature_extraction.text import TfidfVectorizer\n",
        "from sklearn.feature_extraction.text import CountVectorizer\n",
        "from Sastrawi.Stemmer.StemmerFactory import StemmerFactory\n",
        "\n",
        "nltk.download('punkt')"
      ]
    },
    {
      "cell_type": "markdown",
      "metadata": {
        "id": "TSFRonHDFfTK"
      },
      "source": [
        "## 2. Load Dataset\n",
        "\n",
        "Load data ke memmory menggunakan library pandas."
      ]
    },
    {
      "cell_type": "code",
      "execution_count": 11,
      "metadata": {
        "id": "NEg8E5tWFfTK"
      },
      "outputs": [],
      "source": [
        "data1 = pd.read_csv('../data/Data Scraper - Indodax.csv')\n",
        "# data2 = pd.read_csv('../data/Crawling Twitter Jakarta 25 - 23.csv')\n",
        "# data3 = pd.read_csv('../data/Crawling Twitter Jakarta 22 - 19 setengah.csv')"
      ]
    },
    {
      "cell_type": "markdown",
      "metadata": {
        "id": "Npl5RqMlFfTL"
      },
      "source": [
        "**Menggabungkan data**\n",
        "\n",
        "Menggabungkan 3 dataset tersebut menjadi satu"
      ]
    },
    {
      "cell_type": "code",
      "execution_count": 12,
      "metadata": {
        "id": "F5rVk37MFfTL"
      },
      "outputs": [],
      "source": [
        "# Concate data\n",
        "# data = pd.concat([data1,data2,data3])\n",
        "# data.head()\n",
        "data = pd.concat([data1])"
      ]
    },
    {
      "cell_type": "code",
      "execution_count": 13,
      "metadata": {
        "id": "fYxrkSqSFfTN"
      },
      "outputs": [],
      "source": [
        "# Cleanner \n",
        "def cleaning(text):\n",
        "#     text = text[2:]\n",
        "#     text = text.replace('\\\\n',' ')\n",
        "    return text"
      ]
    },
    {
      "cell_type": "code",
      "execution_count": 14,
      "metadata": {
        "colab": {
          "base_uri": "https://localhost:8080/"
        },
        "id": "bOKM429RFfTO",
        "outputId": "60ba105f-bf09-48f2-bb18-24a0f1572b8c"
      },
      "outputs": [
        {
          "data": {
            "text/plain": [
              "array(['Pertama kali main disini dan pro disini lama\" ngerasa ada yang aneh dan nga kuat akhir nya pindah ke platform B,Parahh aslilahh 1x,2x dan akhirnya berkali\" kalau lagi harga tinggi pasti error, suka ngelist coin yang nga ada fungsinya yg ujung nya bakal di delist, Suka ngelist coin baru pas lagi tinggi\"nya. Kasihan orang\" awam yang baru gabung.',\n",
              "       'YA ampun platform terbesar di indonesia masih bisa2nya kena tipu. Koin Vidy Vidyx aset masa depan di hold lama malah di delist trus uangnya dikemanain semuanya. Baru download tiba2 koin hilang semua. Astaga kecewa bgt. Dahlah bintang 1 cocok kok ini buat aplikasi.',\n",
              "       'Indodax sehat???,..... 4hari terakhir ini gx bisa log in, selalu disuruhnya masukan pin,....? berkali2 donlot ulang aplikasi tetap saja sama. klo gx suport sama android 11. Mending didepak aja dari playstore.',\n",
              "       ..., 'Lumayan mudah untuk withdrawnya..', 'Good', '👍'],\n",
              "      dtype=object)"
            ]
          },
          "execution_count": 14,
          "metadata": {},
          "output_type": "execute_result"
        }
      ],
      "source": [
        "data['Content'] =  data['Content'].apply(lambda x : cleaning(x))\n",
        "data['Content'].values"
      ]
    },
    {
      "cell_type": "markdown",
      "metadata": {
        "id": "m7vYe-ZeFfTP"
      },
      "source": [
        "## 2. Data Preprocessing\n",
        "\n",
        "Preprocess data text sebelum diolah"
      ]
    },
    {
      "cell_type": "markdown",
      "metadata": {
        "id": "1bHFsbc8FfTP"
      },
      "source": [
        "## 2.1. Stemmer\n",
        "\n",
        "> Stemming merupakan suatu proses untuk menemukan kata dasar dari sebuah kata. Dengan menghilangkan semua imbuhan (affixes) baik yang terdiri dari awalan (prefixes), sisipan (infixes), akhiran (suffixes) dan confixes (kombinasi dari awalan dan akhiran) pada kata turunan. Stemming digunakan untuk mengganti bentuk dari suatu kata menjadi kata dasar dari kata tersebut yang sesuai dengan struktur morfologi Bahasa Indonesia yang baik dan benar.\n",
        "\n",
        "Membuat Stemmer menggunakan sastrawi."
      ]
    },
    {
      "cell_type": "code",
      "execution_count": 15,
      "metadata": {
        "id": "aOJVCN0BFfTQ"
      },
      "outputs": [],
      "source": [
        "# Create Sastrawi stemmer\n",
        "stemmer = StemmerFactory().create_stemmer()"
      ]
    },
    {
      "cell_type": "markdown",
      "metadata": {
        "id": "o1Mfj5h1FfTQ"
      },
      "source": [
        "## 2.2. Stopwords\n",
        "\n",
        "> Stop words adalah kata umum (common words) yang biasanya muncul dalam jumlah besar dan dianggap tidak memiliki makna.\n",
        "\n",
        "Akan dibuat list yang berisi stopword yang ada pada bahasa indonesia."
      ]
    },
    {
      "cell_type": "code",
      "execution_count": 17,
      "metadata": {
        "id": "laHci0gKFfTQ"
      },
      "outputs": [],
      "source": [
        "# Create Stopword\n",
        "with open(\"../data/stopwords-id.txt\", \"r\") as f:\n",
        "    stop_words = f.readline()\n",
        "    stop_words = stop_words.split()"
      ]
    },
    {
      "cell_type": "markdown",
      "metadata": {
        "id": "_4LBSGgRFfTR"
      },
      "source": [
        "## 2.3. Preprocessing function\n",
        "\n",
        "Akan dilakukan beberapa tahap untuk preprocess data text agar siap digunakan, yaitu:\n",
        "\n",
        "1. Normalisasi karakter string menjadi huruf kecil\n",
        "2. Menghapus emoji\n",
        "3. Menghapus setiap url\n",
        "4. Menghapus tagging\n",
        "5. Menghapus whitespace\n",
        "6. Menghapus simbol '#' pada hashtag\n",
        "7. Menghapus angka\n",
        "8. Mengganti tanda baca menjadi '<spasi>'"
      ]
    },
    {
      "cell_type": "code",
      "execution_count": 18,
      "metadata": {
        "id": "5R5sJI-mFfTR"
      },
      "outputs": [],
      "source": [
        "# Preprocessor\n",
        "def preprocessor(text):\n",
        "    # Convert to lower case\n",
        "    text = text.lower()\n",
        "    # Remove additional code\n",
        "    text = text.replace('\\\\xe2\\\\x80\\\\xa6', '')\n",
        "    # Convert www.* or https?://* to URL\n",
        "    text = re.sub('((www\\.[^\\s]+)|(https?://[^\\s]+))','',text)\n",
        "    # Convert @username to AT_USER\n",
        "    text = re.sub('@[^\\s]+','',text)\n",
        "    # Remove additional white spaces\n",
        "    text = re.sub('[\\s]+', ' ', text)\n",
        "    # Replace #word with word\n",
        "    text = re.sub(r'#([^\\s]+)', r'\\1',text)\n",
        "    # Menghapus angka dari teks\n",
        "    text = re.sub(r\"\\d+\", \"\", text)\n",
        "    # Menganti tanda baca dengan spasi\n",
        "    text = text.translate(str.maketrans(string.punctuation, ' ' * len(string.punctuation)))\n",
        "    return text"
      ]
    },
    {
      "cell_type": "code",
      "execution_count": 21,
      "metadata": {
        "colab": {
          "base_uri": "https://localhost:8080/"
        },
        "id": "p8Z8e0owFfTS",
        "outputId": "234443c2-2dd2-4e0c-b1d0-d4675a6dba93"
      },
      "outputs": [],
      "source": [
        "data['Content'] = data['Content'].apply(lambda x : preprocessor(x))\n",
        "data['Content'].values\n",
        "\n",
        "# Fungsi save hasil data yang sudah dibersihkan\n",
        "data.to_csv('../output/cleaned_data.csv')"
      ]
    },
    {
      "cell_type": "markdown",
      "metadata": {
        "id": "tKmh-mdCFfTS"
      },
      "source": [
        "## 2.4. Tokenizer\n",
        "\n",
        "Membuat custom tokenizer menggunakan `word_tokenize` dari library `nltk` lalu memfilter token tersebut."
      ]
    },
    {
      "cell_type": "code",
      "execution_count": 20,
      "metadata": {
        "id": "xLo1J7FcFfTS"
      },
      "outputs": [],
      "source": [
        "# Tokenizer\n",
        "def tokenizer(text):\n",
        "    words = word_tokenize(text)\n",
        "    tokens=[]\n",
        "    for w in words:\n",
        "        # add tokens\n",
        "        if len(w) > 3 and w not in stop_words:\n",
        "            w = stemmer.stem(w)\n",
        "            tokens.append(w.lower())\n",
        "    return \" \".join(tokens)"
      ]
    },
    {
      "cell_type": "code",
      "execution_count": 22,
      "metadata": {
        "id": "ISmfwPwrFfTT"
      },
      "outputs": [],
      "source": [
        "# Untuk menghemat waktu running dilakukan loading tweet yang sudah\n",
        "# dibersihkan sebelumnya\n",
        "# with open('/content/Cleaned Data.txt') as reader:\n",
        "#     data['Content'] = reader.read().split(\"\\n\")\n",
        "\n",
        "with open('../output/cleaned_data.txt', 'rb') as f:\n",
        "  contents = f.read()\n",
        "# Uncomment dan run kode di bawah jika mengganti atau menambahkan\n",
        "# metode preprocess data text, proses running membutuhkan waktu\n",
        "# yang cukup lama (sekitar 1 jam)\n",
        "# data['Content'] = data['Content'].apply(lambda x : tokenizer(x))\n",
        "\n",
        "# data['Content'].values"
      ]
    },
    {
      "cell_type": "markdown",
      "metadata": {
        "id": "Wr7S9rt5FfTT"
      },
      "source": [
        "## 2.5. Text Vectorization\n",
        "\n",
        "Text vectorization adalah cara melakukan encode data text menjadi numerik. Berikut akan dilakukan vectorization menggunakan `TfidfVectorizer` dari library `scikit-learn`. Untuk mempelajari text vectorization lebih lanjut dapat membaca artikel [berikut](https://machinelearningmastery.com/prepare-text-data-machine-learning-scikit-learn/)"
      ]
    },
    {
      "cell_type": "code",
      "execution_count": 23,
      "metadata": {
        "id": "PhIT2MH-FfTU"
      },
      "outputs": [],
      "source": [
        "# Defining Vectorizer object\n",
        "vectorizer_tfidf = TfidfVectorizer(min_df=0.01, max_df=0.6)\n",
        "\n",
        "# Load saved vectorizer\n",
        "# vectorizer_tfidf = pickle.load(open('../model/vectorizer/vectorizer_tfidf.pickle', 'rb'))"
      ]
    },
    {
      "cell_type": "markdown",
      "metadata": {
        "id": "Ob3ooILDFfTU"
      },
      "source": [
        "**fit & transform**\n",
        "\n",
        "Ubah data text menjadi encoded matrix"
      ]
    },
    {
      "cell_type": "code",
      "execution_count": 24,
      "metadata": {
        "id": "hRenIzxmFfTU"
      },
      "outputs": [],
      "source": [
        "# fit and transform text data\n",
        "word_tfidf = vectorizer_tfidf.fit_transform(data['Content'].values)\n",
        "\n",
        "# Load saved transformed data\n",
        "# word_tfidf = pickle.load(open('../model/vectorizer/word_tfidf.pickle', 'rb'))"
      ]
    },
    {
      "cell_type": "markdown",
      "metadata": {
        "id": "WN6iF9gqFfTU"
      },
      "source": [
        "Mengambil nama fitur / kata - kata yang terdapat dalam data dan melihat dimensi data setelah dilakukan vectorization menggunakan `TfidfVectorizer`"
      ]
    },
    {
      "cell_type": "code",
      "execution_count": 25,
      "metadata": {
        "colab": {
          "base_uri": "https://localhost:8080/"
        },
        "id": "9KKaQet-FfTV",
        "outputId": "9944fad3-0be7-446f-cc29-cf8c8ca5a199"
      },
      "outputs": [
        {
          "name": "stdout",
          "output_type": "stream",
          "text": [
            "Jumlah artikel = 1200\n",
            "Jumlah fitur   = 308\n"
          ]
        }
      ],
      "source": [
        "# Nama fitur\n",
        "nama_fitur = vectorizer_tfidf.get_feature_names()\n",
        "\n",
        "# Dimensi data\n",
        "dimensions = word_tfidf.get_shape()\n",
        "print(f\"Jumlah artikel = {dimensions[0]}\")\n",
        "print(f\"Jumlah fitur   = {dimensions[1]}\")"
      ]
    },
    {
      "cell_type": "markdown",
      "metadata": {
        "id": "DdoVb7eVFfTV"
      },
      "source": [
        "## 2.6. Kata dengan bobot TF-IDF tertinggi\n",
        "\n",
        "Melihat kata - kata dengan bobot TF-IDF tertinggi"
      ]
    },
    {
      "cell_type": "code",
      "execution_count": 26,
      "metadata": {
        "colab": {
          "base_uri": "https://localhost:8080/",
          "height": 677
        },
        "id": "fZdQ5pRGFfTV",
        "outputId": "bbefa5d6-94cf-49fd-d7c2-c575c6309616"
      },
      "outputs": [
        {
          "data": {
            "text/html": [
              "<div>\n",
              "<style scoped>\n",
              "    .dataframe tbody tr th:only-of-type {\n",
              "        vertical-align: middle;\n",
              "    }\n",
              "\n",
              "    .dataframe tbody tr th {\n",
              "        vertical-align: top;\n",
              "    }\n",
              "\n",
              "    .dataframe thead th {\n",
              "        text-align: right;\n",
              "    }\n",
              "</style>\n",
              "<table border=\"1\" class=\"dataframe\">\n",
              "  <thead>\n",
              "    <tr style=\"text-align: right;\">\n",
              "      <th></th>\n",
              "      <th>Kata</th>\n",
              "      <th>Banyak</th>\n",
              "    </tr>\n",
              "  </thead>\n",
              "  <tbody>\n",
              "    <tr>\n",
              "      <th>275</th>\n",
              "      <td>yg</td>\n",
              "      <td>46</td>\n",
              "    </tr>\n",
              "    <tr>\n",
              "      <th>83</th>\n",
              "      <td>good</td>\n",
              "      <td>25</td>\n",
              "    </tr>\n",
              "    <tr>\n",
              "      <th>208</th>\n",
              "      <td>saya</td>\n",
              "      <td>18</td>\n",
              "    </tr>\n",
              "    <tr>\n",
              "      <th>261</th>\n",
              "      <td>untuk</td>\n",
              "      <td>14</td>\n",
              "    </tr>\n",
              "    <tr>\n",
              "      <th>145</th>\n",
              "      <td>mantap</td>\n",
              "      <td>13</td>\n",
              "    </tr>\n",
              "    <tr>\n",
              "      <th>165</th>\n",
              "      <td>nomor</td>\n",
              "      <td>13</td>\n",
              "    </tr>\n",
              "    <tr>\n",
              "      <th>168</th>\n",
              "      <td>ok</td>\n",
              "      <td>13</td>\n",
              "    </tr>\n",
              "    <tr>\n",
              "      <th>70</th>\n",
              "      <td>eror</td>\n",
              "      <td>12</td>\n",
              "    </tr>\n",
              "    <tr>\n",
              "      <th>34</th>\n",
              "      <td>bintang</td>\n",
              "      <td>11</td>\n",
              "    </tr>\n",
              "    <tr>\n",
              "      <th>97</th>\n",
              "      <td>jadi</td>\n",
              "      <td>11</td>\n",
              "    </tr>\n",
              "    <tr>\n",
              "      <th>15</th>\n",
              "      <td>bagus</td>\n",
              "      <td>11</td>\n",
              "    </tr>\n",
              "    <tr>\n",
              "      <th>123</th>\n",
              "      <td>koin</td>\n",
              "      <td>10</td>\n",
              "    </tr>\n",
              "    <tr>\n",
              "      <th>73</th>\n",
              "      <td>fee</td>\n",
              "      <td>10</td>\n",
              "    </tr>\n",
              "    <tr>\n",
              "      <th>104</th>\n",
              "      <td>kadang</td>\n",
              "      <td>10</td>\n",
              "    </tr>\n",
              "    <tr>\n",
              "      <th>16</th>\n",
              "      <td>baik</td>\n",
              "      <td>9</td>\n",
              "    </tr>\n",
              "    <tr>\n",
              "      <th>196</th>\n",
              "      <td>rb</td>\n",
              "      <td>9</td>\n",
              "    </tr>\n",
              "    <tr>\n",
              "      <th>8</th>\n",
              "      <td>apk</td>\n",
              "      <td>9</td>\n",
              "    </tr>\n",
              "    <tr>\n",
              "      <th>87</th>\n",
              "      <td>harga</td>\n",
              "      <td>9</td>\n",
              "    </tr>\n",
              "    <tr>\n",
              "      <th>265</th>\n",
              "      <td>usdt</td>\n",
              "      <td>9</td>\n",
              "    </tr>\n",
              "    <tr>\n",
              "      <th>84</th>\n",
              "      <td>grafik</td>\n",
              "      <td>8</td>\n",
              "    </tr>\n",
              "  </tbody>\n",
              "</table>\n",
              "</div>"
            ],
            "text/plain": [
              "        Kata  Banyak\n",
              "275       yg      46\n",
              "83      good      25\n",
              "208     saya      18\n",
              "261    untuk      14\n",
              "145   mantap      13\n",
              "165    nomor      13\n",
              "168       ok      13\n",
              "70      eror      12\n",
              "34   bintang      11\n",
              "97      jadi      11\n",
              "15     bagus      11\n",
              "123     koin      10\n",
              "73       fee      10\n",
              "104   kadang      10\n",
              "16      baik       9\n",
              "196       rb       9\n",
              "8        apk       9\n",
              "87     harga       9\n",
              "265     usdt       9\n",
              "84    grafik       8"
            ]
          },
          "execution_count": 26,
          "metadata": {},
          "output_type": "execute_result"
        }
      ],
      "source": [
        "content1, content2 = [], []\n",
        "\n",
        "for n in range(dimensions[0]):\n",
        "    # Convert sparse matrix row by row \n",
        "    row = word_tfidf.getrow(n).toarray()[0].ravel()\n",
        "    # Get top values and its indexes \n",
        "    top_ten_indices = row.argsort()[-1]\n",
        "    top_ten_values = row[row.argsort()[-1]]\n",
        "    # Identify the highest TFIDF value and word #\n",
        "    highestTFIDFword = nama_fitur[top_ten_indices]\n",
        "    highestTFIDFvalue = top_ten_values\n",
        "    top1word = {'nomor artikel': n+1, 'nilai TFIDF': highestTFIDFvalue,\n",
        "                'top word': highestTFIDFword}\n",
        "    content1.append(top1word)\n",
        "    content2.append(highestTFIDFword)\n",
        "\n",
        "# Hitung Frekuensi kata dengan bobot terbesar\n",
        "content2 = np.asarray(content2)\n",
        "words, n = np.unique(content2, return_counts=True)\n",
        "\n",
        "# Convert to DataFrame lalu urutkan secara descending\n",
        "# lalu pilih 20 kata dengan frekuensi terbesar \n",
        "words_data = pd.DataFrame({\n",
        "    'Kata': words,\n",
        "    'Banyak': n\n",
        "}).sort_values(by='Banyak', ascending=False).head(20)\n",
        "words_data "
      ]
    },
    {
      "cell_type": "markdown",
      "metadata": {
        "id": "mJMtxZ8eFfTW"
      },
      "source": [
        "**Visualisasi hasil**"
      ]
    },
    {
      "cell_type": "code",
      "execution_count": 27,
      "metadata": {
        "colab": {
          "base_uri": "https://localhost:8080/",
          "height": 1000
        },
        "id": "hTVBX7KtFfTW",
        "outputId": "e5c036c2-df8c-4cec-e7ac-9ae80b7286e1"
      },
      "outputs": [
        {
          "data": {
            "image/png": "[encoded data removed]",
            "text/plain": [
              "<Figure size 720x720 with 1 Axes>"
            ]
          },
          "metadata": {
            "needs_background": "light"
          },
          "output_type": "display_data"
        }
      ],
      "source": [
        "# Plotting Barplot\n",
        "plt.figure(figsize = (10,10))\n",
        "sns.barplot(x = words_data['Kata'],y = words_data['Banyak'])\n",
        "for i, v in enumerate(words_data['Banyak'].tolist()):\n",
        "    plt.text(i-len(str(v))/10-.05, v + 50, str(v),fontsize=10)\n",
        "plt.title('Kata Dengan Bobot Terbesar',fontsize=20)\n",
        "plt.xticks(rotation=90)\n",
        "plt.xlabel('Kata',fontsize=16)\n",
        "plt.ylabel('Frekuensi',fontsize=16)\n",
        "plt.show()"
      ]
    },
    {
      "cell_type": "markdown",
      "metadata": {
        "id": "ObajbAvHFfTW"
      },
      "source": [
        "## 3. Pemodelan\n",
        "\n",
        "Akan dilakukan pemodelan menggunakan beberapa metode machine learning seperti:\n",
        "\n",
        "1. Decision Tree\n",
        "2. Logistic Regression\n",
        "3. Random Forest Classifier\n",
        "4. Support Vector Machine\n",
        "\n",
        "Lalu performa model - model tersebut akan dibandingkan dengan melihat metric `accuracy` untuk dipilih sebagai model terbaik."
      ]
    },
    {
      "cell_type": "markdown",
      "metadata": {
        "id": "2d1pmivWFfTW"
      },
      "source": [
        "## 3.1. Loading Sample Data\n",
        "\n",
        "Karena untuk melakukan pemodelan dengan motode - metode yang telah di jabarkan memerlukan label (`y`) sedangkan data hasil crawling tidak memiliki label (`y`). Maka perlu dilakukan labeling secara manual dengan ketentuan:\n",
        "\n",
        "* `0` adalah label untuk tweet yang bersentimen `negatif`\n",
        "* `1` adalah label untuk tweet yang bersentimen `netral`\n",
        "* `2` adalah label untuk tweet yang bersentimen `positif`\n",
        "\n",
        "Karena jika menggunakan seluruh data yang di crawl untuk dilakukan labelng secara manual membutuhkan waktu dan tenaga yang besar (karena jumlah datanya sangat banyak), maka perlu dilakukan sampling terhadap dataset untuk mengambil sebagian data. Pada notebook ini akan digunakan dataset hasil sampling data dan telah dilakukan labeling secara manual oleh penulis, untuk proses samplingnya dapat dilihat pada notebook `Sampling.ipynb`"
      ]
    },
    {
      "cell_type": "code",
      "execution_count": 28,
      "metadata": {
        "colab": {
          "base_uri": "https://localhost:8080/",
          "height": 206
        },
        "id": "vV2_Gr_tFfTX",
        "outputId": "c8c543b6-9463-40ae-f984-cd5ff19209d0"
      },
      "outputs": [
        {
          "data": {
            "text/html": [
              "<div>\n",
              "<style scoped>\n",
              "    .dataframe tbody tr th:only-of-type {\n",
              "        vertical-align: middle;\n",
              "    }\n",
              "\n",
              "    .dataframe tbody tr th {\n",
              "        vertical-align: top;\n",
              "    }\n",
              "\n",
              "    .dataframe thead th {\n",
              "        text-align: right;\n",
              "    }\n",
              "</style>\n",
              "<table border=\"1\" class=\"dataframe\">\n",
              "  <thead>\n",
              "    <tr style=\"text-align: right;\">\n",
              "      <th></th>\n",
              "      <th>Date</th>\n",
              "      <th>Index</th>\n",
              "      <th>Content</th>\n",
              "      <th>Sentiment</th>\n",
              "    </tr>\n",
              "  </thead>\n",
              "  <tbody>\n",
              "    <tr>\n",
              "      <th>0</th>\n",
              "      <td>2021-12-01 6:43:00</td>\n",
              "      <td>0</td>\n",
              "      <td>Pertama kali main disini dan pro disini lama\" ...</td>\n",
              "      <td>0</td>\n",
              "    </tr>\n",
              "    <tr>\n",
              "      <th>1</th>\n",
              "      <td>2021-11-30 13:31:30</td>\n",
              "      <td>1</td>\n",
              "      <td>YA ampun platform terbesar di indonesia masih ...</td>\n",
              "      <td>0</td>\n",
              "    </tr>\n",
              "    <tr>\n",
              "      <th>2</th>\n",
              "      <td>2021-12-01 5:58:21</td>\n",
              "      <td>2</td>\n",
              "      <td>Indodax sehat???,..... 4hari terakhir ini gx b...</td>\n",
              "      <td>0</td>\n",
              "    </tr>\n",
              "    <tr>\n",
              "      <th>3</th>\n",
              "      <td>2021-11-05 0:52:06</td>\n",
              "      <td>3</td>\n",
              "      <td>Setelah pembaruan malah ngaco indodax ini 1w i...</td>\n",
              "      <td>0</td>\n",
              "    </tr>\n",
              "    <tr>\n",
              "      <th>4</th>\n",
              "      <td>2021-11-23 12:02:41</td>\n",
              "      <td>4</td>\n",
              "      <td>Sangat mengewakan deposit saya dari tgl 28 okt...</td>\n",
              "      <td>0</td>\n",
              "    </tr>\n",
              "  </tbody>\n",
              "</table>\n",
              "</div>"
            ],
            "text/plain": [
              "                  Date  Index  \\\n",
              "0   2021-12-01 6:43:00      0   \n",
              "1  2021-11-30 13:31:30      1   \n",
              "2   2021-12-01 5:58:21      2   \n",
              "3   2021-11-05 0:52:06      3   \n",
              "4  2021-11-23 12:02:41      4   \n",
              "\n",
              "                                             Content  Sentiment  \n",
              "0  Pertama kali main disini dan pro disini lama\" ...          0  \n",
              "1  YA ampun platform terbesar di indonesia masih ...          0  \n",
              "2  Indodax sehat???,..... 4hari terakhir ini gx b...          0  \n",
              "3  Setelah pembaruan malah ngaco indodax ini 1w i...          0  \n",
              "4  Sangat mengewakan deposit saya dari tgl 28 okt...          0  "
            ]
          },
          "execution_count": 28,
          "metadata": {},
          "output_type": "execute_result"
        }
      ],
      "source": [
        "# Loading Sample tweet sentiment\n",
        "sample = pd.read_csv('../data/Indodax - Sample Tweet.csv')\n",
        "sample.head()"
      ]
    },
    {
      "cell_type": "markdown",
      "metadata": {
        "id": "7feUlSnzFfTX"
      },
      "source": [
        "## 3.2. Preprocess Sampling dataset\n",
        "\n",
        "Encode kolom `Tweets` pada sampling dataset dengan menggunakan `TfidfVectorizer` yang sebelumnya. Lalu extract `x` dan `y` dari dataframe"
      ]
    },
    {
      "cell_type": "code",
      "execution_count": 29,
      "metadata": {
        "colab": {
          "base_uri": "https://localhost:8080/"
        },
        "id": "YkSgZ3J7FfTX",
        "outputId": "1ab26f0b-0d48-43cf-809d-fce213b5a9c8"
      },
      "outputs": [
        {
          "data": {
            "text/plain": [
              "array(['pertama kali main sini sini lama ngerasa yang aneh kuat akhir pindah platform parahh aslilahh akhir kali kalau lagi harga tinggi pasti error suka ngelist coin yang fungsi ujung bakal delist suka ngelist coin baru lagi tinggi kasihan orang awam yang baru gabung',\n",
              "       'ampun platform besar indonesia masih bisa kena tipu koin vidy vidyx aset masa depan hold lama malah delist trus uang dikemanain semua baru download tiba koin hilang semua astaga kecewa dah bintang cocok buat aplikasi',\n",
              "       'indodax sehat hari akhir bisa selalu suruh masuk kali donlot ulang aplikasi tetap saja sama suport sama android mending depak dari playstore',\n",
              "       'telah baru malah ngaco indodax isi isi siap update gopay mana masuk menu sambung sama gopay',\n",
              "       'sangat ewa deposit saya dari sampai saat belum masuk juga saya suruh tunggu hari kerja sampai saat tidak lapor balik saya sungguh terlalu ribet layan saya email selalu jawab tunggu tunggu'],\n",
              "      dtype=object)"
            ]
          },
          "execution_count": 29,
          "metadata": {},
          "output_type": "execute_result"
        }
      ],
      "source": [
        "sample['Content'] = sample['Content'].apply(lambda x : cleaning(x))\n",
        "sample['Content'] = sample['Content'].apply(lambda x : preprocessor(x))\n",
        "sample['Content'] = sample['Content'].apply(lambda x : tokenizer(x))\n",
        "sample['Content'].values[:5]"
      ]
    },
    {
      "cell_type": "code",
      "execution_count": 30,
      "metadata": {
        "id": "2vkEbvAPFfTY"
      },
      "outputs": [],
      "source": [
        "x = vectorizer_tfidf.transform(sample['Content'].values)\n",
        "y = sample['Sentiment'].values"
      ]
    },
    {
      "cell_type": "markdown",
      "metadata": {
        "id": "yvbyz8asFfTY"
      },
      "source": [
        "**Splitting Data**\n",
        "\n",
        "Membagi data menjadi data `train` dan data `valid` dengan perbandingan `80:20`"
      ]
    },
    {
      "cell_type": "code",
      "execution_count": 31,
      "metadata": {
        "id": "-AgBRwnVFfTY"
      },
      "outputs": [],
      "source": [
        "from sklearn.model_selection import train_test_split\n",
        "\n",
        "x_train, x_valid, y_train, y_valid = train_test_split(x, y, test_size=0.2, random_state=2020)"
      ]
    },
    {
      "cell_type": "markdown",
      "metadata": {
        "id": "gaHcXXoyFfTZ"
      },
      "source": [
        "## 3.3. Fitting Model\n",
        "\n",
        "Akan dilakukan fitting model - model terhadap data `train` lalu model - model tersebut akan diukur keakuratannya dengan menghitung akurasinya pada data `valid`"
      ]
    },
    {
      "cell_type": "code",
      "execution_count": 32,
      "metadata": {
        "colab": {
          "base_uri": "https://localhost:8080/"
        },
        "id": "x9Hr0R3PFfTZ",
        "outputId": "8913785e-e425-4521-b1e0-098ce21a4f2f"
      },
      "outputs": [
        {
          "name": "stdout",
          "output_type": "stream",
          "text": [
            "Akurasi dari Decision Tree Classifier :  0.5071428571428571\n",
            "Akurasi dari Logistic Regression :  0.6357142857142857\n",
            "Akurasi dari Random Forest Classifier :  0.6285714285714286\n",
            "Akurasi dari SVM :  0.65\n"
          ]
        }
      ],
      "source": [
        "# Modelling\n",
        "from sklearn.linear_model import LogisticRegression\n",
        "from sklearn.ensemble import RandomForestClassifier\n",
        "from sklearn.tree import DecisionTreeClassifier\n",
        "from sklearn.svm import SVC\n",
        "from sklearn import metrics\n",
        "\n",
        "classifiers = {\n",
        "    \"Decision Tree Classifier\": DecisionTreeClassifier(),\n",
        "    \"Logistic Regression\": LogisticRegression(),\n",
        "    \"Random Forest Classifier\": RandomForestClassifier(),\n",
        "    \"SVM\": SVC(probability=True)\n",
        "}\n",
        "\n",
        "for name in classifiers.keys():\n",
        "    classifiers[name].fit(x_train, y_train)\n",
        "    y_pred = classifiers[name].predict(x_valid)\n",
        "    print(f\"Akurasi dari {name} : \",metrics.accuracy_score(y_valid, y_pred))"
      ]
    },
    {
      "cell_type": "markdown",
      "metadata": {
        "id": "YmeQupFYFfTZ"
      },
      "source": [
        "**Insight**\n",
        "\n",
        "Dapat dilihat bahwa `Random Forest Classifier` memiliki performa yang jauh lebih baik dari model - model yang lain. Maka dari itu model `Random Forest Classifier` akan digunakan untuk memprediksi keseluruhan data"
      ]
    },
    {
      "cell_type": "markdown",
      "metadata": {
        "id": "dVo81mlgFfTa"
      },
      "source": [
        "## 4. Prediction (Peramalan)\n",
        "\n",
        "Akan dilakukan peramalan terhadap keseluruhan data menggunakan medel `SVM` yang telah di fit sebelumnya"
      ]
    },
    {
      "cell_type": "code",
      "execution_count": 33,
      "metadata": {
        "colab": {
          "base_uri": "https://localhost:8080/",
          "height": 206
        },
        "id": "nbcZ10RJFfTa",
        "outputId": "8e6e9587-b8c8-4569-befa-8c36c3c050c2"
      },
      "outputs": [
        {
          "data": {
            "text/html": [
              "<div>\n",
              "<style scoped>\n",
              "    .dataframe tbody tr th:only-of-type {\n",
              "        vertical-align: middle;\n",
              "    }\n",
              "\n",
              "    .dataframe tbody tr th {\n",
              "        vertical-align: top;\n",
              "    }\n",
              "\n",
              "    .dataframe thead th {\n",
              "        text-align: right;\n",
              "    }\n",
              "</style>\n",
              "<table border=\"1\" class=\"dataframe\">\n",
              "  <thead>\n",
              "    <tr style=\"text-align: right;\">\n",
              "      <th></th>\n",
              "      <th>Date</th>\n",
              "      <th>Content</th>\n",
              "      <th>prediction</th>\n",
              "    </tr>\n",
              "  </thead>\n",
              "  <tbody>\n",
              "    <tr>\n",
              "      <th>0</th>\n",
              "      <td>2021-12-01 6:43:00</td>\n",
              "      <td>pertama kali main disini dan pro disini lama n...</td>\n",
              "      <td>0</td>\n",
              "    </tr>\n",
              "    <tr>\n",
              "      <th>1</th>\n",
              "      <td>2021-11-30 13:31:30</td>\n",
              "      <td>ya ampun platform terbesar di indonesia masih ...</td>\n",
              "      <td>0</td>\n",
              "    </tr>\n",
              "    <tr>\n",
              "      <th>2</th>\n",
              "      <td>2021-12-01 5:58:21</td>\n",
              "      <td>indodax sehat hari terakhir ini gx bisa log in...</td>\n",
              "      <td>0</td>\n",
              "    </tr>\n",
              "    <tr>\n",
              "      <th>3</th>\n",
              "      <td>2021-11-05 0:52:06</td>\n",
              "      <td>setelah pembaruan malah ngaco indodax ini w is...</td>\n",
              "      <td>0</td>\n",
              "    </tr>\n",
              "    <tr>\n",
              "      <th>4</th>\n",
              "      <td>2021-11-23 12:02:41</td>\n",
              "      <td>sangat mengewakan deposit saya dari tgl okt sa...</td>\n",
              "      <td>0</td>\n",
              "    </tr>\n",
              "  </tbody>\n",
              "</table>\n",
              "</div>"
            ],
            "text/plain": [
              "                  Date                                            Content  \\\n",
              "0   2021-12-01 6:43:00  pertama kali main disini dan pro disini lama n...   \n",
              "1  2021-11-30 13:31:30  ya ampun platform terbesar di indonesia masih ...   \n",
              "2   2021-12-01 5:58:21  indodax sehat hari terakhir ini gx bisa log in...   \n",
              "3   2021-11-05 0:52:06  setelah pembaruan malah ngaco indodax ini w is...   \n",
              "4  2021-11-23 12:02:41  sangat mengewakan deposit saya dari tgl okt sa...   \n",
              "\n",
              "   prediction  \n",
              "0           0  \n",
              "1           0  \n",
              "2           0  \n",
              "3           0  \n",
              "4           0  "
            ]
          },
          "execution_count": 33,
          "metadata": {},
          "output_type": "execute_result"
        }
      ],
      "source": [
        "data['prediction'] = classifiers['SVM'].predict(word_tfidf)\n",
        "data.head()"
      ]
    },
    {
      "cell_type": "markdown",
      "metadata": {
        "id": "-u0SSkR6FfTa"
      },
      "source": [
        "## 5. Visualization\n",
        "\n",
        "Visualisasi sentimen hasil predisian model `SVM`"
      ]
    },
    {
      "cell_type": "markdown",
      "metadata": {
        "id": "gPTRJh0BFfTa"
      },
      "source": [
        "## 5.1. Perbandingan Sentimen\n",
        "\n",
        "Perbandingan jumlah antar sentimen yang ada"
      ]
    },
    {
      "cell_type": "code",
      "execution_count": 34,
      "metadata": {
        "colab": {
          "base_uri": "https://localhost:8080/",
          "height": 486
        },
        "id": "QOZVntN3FfTb",
        "outputId": "accca8d4-9be8-4efc-9e70-8e41f0bdc70e"
      },
      "outputs": [
        {
          "data": {
            "image/png": "[encoded data removed]",
            "text/plain": [
              "<Figure size 576x576 with 1 Axes>"
            ]
          },
          "metadata": {},
          "output_type": "display_data"
        }
      ],
      "source": [
        "# Plotting Pie\n",
        "def pct_pie(pct, allvals):\n",
        "    absolute = int(pct/100.*np.sum(allvals))\n",
        "    return \"{:.1f}%\\n{:d}\".format(pct, absolute)\n",
        "\n",
        "sentimen = data['Content'].groupby(data['prediction']).count().values\n",
        "\n",
        "plt.figure(figsize = (8,8))\n",
        "plt.pie(sentimen, explode=(0,0,0.1), labels=['Negatif','Netral','Positif'], shadow=True,\n",
        "        autopct=lambda pct: pct_pie(pct, sentimen),startangle=90)\n",
        "plt.title('Perbandingan Sentiment',fontsize=18)\n",
        "plt.axis('equal')\n",
        "plt.legend(fontsize=11)\n",
        "plt.show()"
      ]
    },
    {
      "cell_type": "markdown",
      "metadata": {
        "id": "Pg4-M0PiFfTb"
      },
      "source": [
        "**Insight**\n",
        "\n",
        "Dapat dilihat dari pie chart di atas bahwa pada rentang 19 - 27 April 2020 jumlah tweet masyarakat DKI Jakarta dengan topik COVID-19 yang bermuatan positif jauh lebih banyak dari tweet yang bermuatan negatif sedangkan tweet yang bermuatan netral jauh melampaui keduanya."
      ]
    },
    {
      "cell_type": "markdown",
      "metadata": {
        "id": "8QaLtt-0FfTb"
      },
      "source": [
        "## 5.2. Tweet perhari Berdasarkan Sentimen\n",
        "\n",
        "Akan dilihat perbandingan tweet perharinya dari tanggal 19 - 27 April 2020 berdasarkan sentimennya"
      ]
    },
    {
      "cell_type": "code",
      "execution_count": 35,
      "metadata": {
        "id": "w-wGlH3fFfTb"
      },
      "outputs": [],
      "source": [
        "# Melihat banyak Tweet perhari berdasarkan sentiment\n",
        "data['Date'] = pd.to_datetime(data['Date'])\n",
        "tph = data['Content'].groupby([data['Date'].dt.date, data['prediction']]).count()\n",
        "frek = tph.values\n",
        "\n",
        "# To Data Frame\n",
        "tanggal = [ i for i, j in tph.index.tolist() ]\n",
        "senti = [ j for i, j in tph.index.tolist() ]\n",
        "sent = pd.DataFrame({'Date':tanggal,'Sentiment':senti, 'Frekuensi':frek})"
      ]
    },
    {
      "cell_type": "code",
      "execution_count": 36,
      "metadata": {
        "colab": {
          "base_uri": "https://localhost:8080/",
          "height": 658
        },
        "id": "HaIs0rCiFfTc",
        "outputId": "fc38be11-e7f3-4bda-d3c6-b87a206496f6"
      },
      "outputs": [
        {
          "data": {
            "image/png": "[encoded data removed]",
            "text/plain": [
              "<Figure size 720x720 with 1 Axes>"
            ]
          },
          "metadata": {
            "needs_background": "light"
          },
          "output_type": "display_data"
        }
      ],
      "source": [
        "# Plotting line\n",
        "plt.figure(figsize = (10,10))\n",
        "sns.lineplot(x='Date',y='Frekuensi',hue='Sentiment',data=sent)\n",
        "plt.title('Banyak Tweet per Hari',fontsize=20)\n",
        "plt.xticks(rotation=45)\n",
        "plt.xlabel('Date',fontsize=16)\n",
        "plt.ylabel('Frekuensi',fontsize=16)\n",
        "plt.legend(['Negatif','Netral','Positif'])\n",
        "plt.show()"
      ]
    },
    {
      "cell_type": "markdown",
      "metadata": {
        "id": "i5Rd9uY0FfTc"
      },
      "source": [
        "**Insight**\n",
        "\n",
        "Dapat dilihat dari diagram garis di atas bahwa pada rentang 19 - 27 April 2020 jumlah tweet masyarakat DKI Jakarta dengan topik COVID-19 yang bermuatan netral jauh lebih banyak dan di susul oleh tweet yang bermuatan positif lalu tweet yang bermuatan netagtif. Dapat dilihat juga bahwa pada tanggal 25 April 2020 tweet yang bermuatan negatif jauh lebih banyak dari tweet yang bermuatan positif."
      ]
    },
    {
      "cell_type": "markdown",
      "metadata": {
        "id": "gUY5XKGTFfTc"
      },
      "source": [
        "## 6. Penutup\n",
        "\n",
        "Telah dilakukan Analisis Sentimen dan juga pemodelan terhadapa data hasil crawling. Data dipreprocess dan dilakukan vectorization menggunakan TF-IDF lalu dilakukan pemodelan. Dari berbagai model yang di uji didapatkan `SVM` adalah model dengan performa terbaik.\n",
        "\n",
        "**Hal yang Dapat Dikembangkan**\n",
        "\n",
        "1. Memperbanyak jumlah data yang dilakukan labeling secara manual\n",
        "2. Melakukan hyperparameter tuning untuk mendapatkan hasil yang lebih maksimal\n",
        "3. Menggunakan Boosting dalam pemodelan seperti, XGBoost, CatBoost, LGBM, dst.\n",
        "4. Menggunakan metode Deep Learning"
      ]
    },
    {
      "cell_type": "code",
      "execution_count": 38,
      "metadata": {
        "id": "C8JmQ1CZFfTd"
      },
      "outputs": [],
      "source": [
        "####################\n",
        "## Saving Objects ##\n",
        "####################\n",
        "\n",
        "# if not os.path.isdir('output'):\n",
        "#     os.mkdir('output')\n",
        "\n",
        "if not os.path.isdir('model'):\n",
        "    os.mkdir('model')\n",
        "\n",
        "# Export data baru\n",
        "data.to_csv('../output/Hasil Sentimen.csv', index=False)\n",
        "\n",
        "# Saving Model\n",
        "for name, model in classifiers.items():\n",
        "    pickle.dump(model, open(f\"../model/[TRAINED] {name}_{datetime.today().strftime('%Y-%m-%d')}.pickle\", \"wb\"))\n",
        "    \n",
        "# Saving Vectorizer\n",
        "# pickle.dump(vectorizer_tfidf, open(\"../model/vectorizer/vectorizer_tfidf.pickle\", \"wb\"))\n",
        "# pickle.dump(word_tfidf, open(\"../model/vectorizer/word_tfidf.pickle\", \"wb\"))"
      ]
    }
  ],
  "metadata": {
    "colab": {
      "collapsed_sections": [
        "m7vYe-ZeFfTP",
        "ObajbAvHFfTW",
        "-u0SSkR6FfTa"
      ],
      "name": "NLP - Sentimen Analisis",
      "provenance": []
    },
    "file_extension": ".py",
    "interpreter": {
      "hash": "b5c2f9982651e6679fa9a68d4ecb0e0e8c17f3b7df4d9abcf37d6df8a7589c17"
    },
    "kernelspec": {
      "display_name": "Python 3.8.7 64-bit",
      "name": "python3"
    },
    "language_info": {
      "codemirror_mode": {
        "name": "ipython",
        "version": 3
      },
      "file_extension": ".py",
      "mimetype": "text/x-python",
      "name": "python",
      "nbconvert_exporter": "python",
      "pygments_lexer": "ipython3",
      "version": "3.9.7"
    },
    "mimetype": "text/x-python",
    "name": "python",
    "npconvert_exporter": "python",
    "pygments_lexer": "ipython3",
    "version": 3
  },
  "nbformat": 4,
  "nbformat_minor": 0
}
